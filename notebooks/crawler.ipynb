{
 "cells": [
  {
   "cell_type": "code",
   "execution_count": 1,
   "metadata": {},
   "outputs": [],
   "source": [
    "import pandas as pd"
   ]
  },
  {
   "cell_type": "code",
   "execution_count": null,
   "metadata": {},
   "outputs": [],
   "source": [
    "df = pd.read_csv('../data/raw/模型訓練資料/tbrain_train_final_0610.csv')\n",
    "df.head()"
   ]
  },
  {
   "cell_type": "code",
   "execution_count": null,
   "metadata": {},
   "outputs": [],
   "source": [
    "df.tail()"
   ]
  },
  {
   "cell_type": "code",
   "execution_count": null,
   "metadata": {},
   "outputs": [],
   "source": [
    "new_df = df[['news_ID', 'hyperlink']]\n",
    "new_df.head()"
   ]
  },
  {
   "cell_type": "code",
   "execution_count": null,
   "metadata": {},
   "outputs": [],
   "source": [
    "zipobj = zip(new_df['news_ID'].to_list(), new_df['hyperlink'].to_list())"
   ]
  },
  {
   "cell_type": "code",
   "execution_count": null,
   "metadata": {},
   "outputs": [],
   "source": [
    "dictofzip = dict(zip(new_df['news_ID'].to_list(), new_df['hyperlink'].to_list()))"
   ]
  },
  {
   "cell_type": "code",
   "execution_count": null,
   "metadata": {},
   "outputs": [],
   "source": [
    "dictofzip.keys()"
   ]
  },
  {
   "cell_type": "code",
   "execution_count": 11,
   "metadata": {},
   "outputs": [
    {
     "data": {
      "text/html": [
       "<div>\n",
       "<style scoped>\n",
       "    .dataframe tbody tr th:only-of-type {\n",
       "        vertical-align: middle;\n",
       "    }\n",
       "\n",
       "    .dataframe tbody tr th {\n",
       "        vertical-align: top;\n",
       "    }\n",
       "\n",
       "    .dataframe thead th {\n",
       "        text-align: right;\n",
       "    }\n",
       "</style>\n",
       "<table border=\"1\" class=\"dataframe\">\n",
       "  <thead>\n",
       "    <tr style=\"text-align: right;\">\n",
       "      <th></th>\n",
       "      <th>res</th>\n",
       "      <th>news</th>\n",
       "    </tr>\n",
       "  </thead>\n",
       "  <tbody>\n",
       "    <tr>\n",
       "      <th>0</th>\n",
       "      <td>&lt;HtmlResponse 200 https://news.cnyes.com/news/...</td>\n",
       "      <td>[熱搜：, 熱門行情, 最近搜尋, 基金老司機, 近年來投資市場波動越來越明顯，追求低波動、...</td>\n",
       "    </tr>\n",
       "    <tr>\n",
       "      <th>1</th>\n",
       "      <td>&lt;HtmlResponse 200 https://www.mirrormedia.mg/s...</td>\n",
       "      <td>[\\n      全部類別\\n    , \\n      全部類別\\n    , \\n   ...</td>\n",
       "    </tr>\n",
       "    <tr>\n",
       "      <th>2</th>\n",
       "      <td>&lt;HtmlResponse 200 https://www.chinatimes.com/n...</td>\n",
       "      <td>[交通部觀光局26日公布7月國際旅客情況，單月98.9萬人次，較去年同期成長15.9％，但已...</td>\n",
       "    </tr>\n",
       "    <tr>\n",
       "      <th>3</th>\n",
       "      <td>&lt;HtmlResponse 200 https://udn.com/news/story/1...</td>\n",
       "      <td>[10月13日晚間發生Uber Eats黃姓外送人員職災死亡案件，北市府勞動局認定業者未依職...</td>\n",
       "    </tr>\n",
       "    <tr>\n",
       "      <th>4</th>\n",
       "      <td>&lt;HtmlResponse 200 https://news.cnyes.com/news/...</td>\n",
       "      <td>[熱搜：, 熱門行情, 最近搜尋, 基金老司機, 對於大部分的投資人而言，如何選擇市場已經非...</td>\n",
       "    </tr>\n",
       "    <tr>\n",
       "      <th>...</th>\n",
       "      <td>...</td>\n",
       "      <td>...</td>\n",
       "    </tr>\n",
       "    <tr>\n",
       "      <th>67</th>\n",
       "      <td>&lt;HtmlResponse 200 http://finance.technews.tw/2...</td>\n",
       "      <td>[3 國央行同步降息，引發投資人對全球經濟成長放緩的憂慮，眾人大買債券避險，公債殖利率再破底...</td>\n",
       "    </tr>\n",
       "    <tr>\n",
       "      <th>68</th>\n",
       "      <td>&lt;HtmlResponse 200 https://news.mingpao.com/ins...</td>\n",
       "      <td>[台灣前總統馬英九到訪英國，周四（10月31日）於牛津大學以「十字路口的兩岸關係」（Cros...</td>\n",
       "    </tr>\n",
       "    <tr>\n",
       "      <th>69</th>\n",
       "      <td>&lt;HtmlResponse 200 https://news.ltn.com.tw/news...</td>\n",
       "      <td>[為達最佳瀏覽效果，建議使用 Chrome、Firefox 或 Microsoft Edge...</td>\n",
       "    </tr>\n",
       "    <tr>\n",
       "      <th>70</th>\n",
       "      <td>&lt;HtmlResponse 200 https://m.ctee.com.tw/livene...</td>\n",
       "      <td>[11月零售消費力道減弱，國內兩大超商11月合併營收同步呈現月減，其中統一超商(2912)1...</td>\n",
       "    </tr>\n",
       "    <tr>\n",
       "      <th>71</th>\n",
       "      <td>&lt;HtmlResponse 200 https://m.ctee.com.tw/livene...</td>\n",
       "      <td>[8吋晶圓代工廠世界先進30日召開法人說明會，第二季歸屬母公司稅後淨利季增6.6％達14.8...</td>\n",
       "    </tr>\n",
       "  </tbody>\n",
       "</table>\n",
       "<p>72 rows × 2 columns</p>\n",
       "</div>"
      ],
      "text/plain": [
       "                                                  res  \\\n",
       "0   <HtmlResponse 200 https://news.cnyes.com/news/...   \n",
       "1   <HtmlResponse 200 https://www.mirrormedia.mg/s...   \n",
       "2   <HtmlResponse 200 https://www.chinatimes.com/n...   \n",
       "3   <HtmlResponse 200 https://udn.com/news/story/1...   \n",
       "4   <HtmlResponse 200 https://news.cnyes.com/news/...   \n",
       "..                                                ...   \n",
       "67  <HtmlResponse 200 http://finance.technews.tw/2...   \n",
       "68  <HtmlResponse 200 https://news.mingpao.com/ins...   \n",
       "69  <HtmlResponse 200 https://news.ltn.com.tw/news...   \n",
       "70  <HtmlResponse 200 https://m.ctee.com.tw/livene...   \n",
       "71  <HtmlResponse 200 https://m.ctee.com.tw/livene...   \n",
       "\n",
       "                                                 news  \n",
       "0   [熱搜：, 熱門行情, 最近搜尋, 基金老司機, 近年來投資市場波動越來越明顯，追求低波動、...  \n",
       "1   [\\n      全部類別\\n    , \\n      全部類別\\n    , \\n   ...  \n",
       "2   [交通部觀光局26日公布7月國際旅客情況，單月98.9萬人次，較去年同期成長15.9％，但已...  \n",
       "3   [10月13日晚間發生Uber Eats黃姓外送人員職災死亡案件，北市府勞動局認定業者未依職...  \n",
       "4   [熱搜：, 熱門行情, 最近搜尋, 基金老司機, 對於大部分的投資人而言，如何選擇市場已經非...  \n",
       "..                                                ...  \n",
       "67  [3 國央行同步降息，引發投資人對全球經濟成長放緩的憂慮，眾人大買債券避險，公債殖利率再破底...  \n",
       "68  [台灣前總統馬英九到訪英國，周四（10月31日）於牛津大學以「十字路口的兩岸關係」（Cros...  \n",
       "69  [為達最佳瀏覽效果，建議使用 Chrome、Firefox 或 Microsoft Edge...  \n",
       "70  [11月零售消費力道減弱，國內兩大超商11月合併營收同步呈現月減，其中統一超商(2912)1...  \n",
       "71  [8吋晶圓代工廠世界先進30日召開法人說明會，第二季歸屬母公司稅後淨利季增6.6％達14.8...  \n",
       "\n",
       "[72 rows x 2 columns]"
      ]
     },
     "execution_count": 11,
     "metadata": {},
     "output_type": "execute_result"
    }
   ],
   "source": [
    "import json\n",
    "with open('../src/crawler/test.json', encoding=\"utf-8\") as f_input:\n",
    "    dfjson = pd.read_json(f_input)\n",
    "dfjson"
   ]
  },
  {
   "cell_type": "code",
   "execution_count": 12,
   "metadata": {},
   "outputs": [],
   "source": [
    "dfjson.to_csv('test.csv', index=False)"
   ]
  },
  {
   "cell_type": "code",
   "execution_count": null,
   "metadata": {},
   "outputs": [],
   "source": []
  }
 ],
 "metadata": {
  "kernelspec": {
   "display_name": "Python 3",
   "language": "python",
   "name": "python3"
  },
  "language_info": {
   "codemirror_mode": {
    "name": "ipython",
    "version": 3
   },
   "file_extension": ".py",
   "mimetype": "text/x-python",
   "name": "python",
   "nbconvert_exporter": "python",
   "pygments_lexer": "ipython3",
   "version": "3.6.8"
  }
 },
 "nbformat": 4,
 "nbformat_minor": 4
}
