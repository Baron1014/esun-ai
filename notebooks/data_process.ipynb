{
 "cells": [
  {
   "cell_type": "code",
   "execution_count": 1,
   "metadata": {},
   "outputs": [],
   "source": [
    "import pandas as pd"
   ]
  },
  {
   "cell_type": "code",
   "execution_count": 17,
   "metadata": {},
   "outputs": [
    {
     "data": {
      "text/html": [
       "<div>\n",
       "<style scoped>\n",
       "    .dataframe tbody tr th:only-of-type {\n",
       "        vertical-align: middle;\n",
       "    }\n",
       "\n",
       "    .dataframe tbody tr th {\n",
       "        vertical-align: top;\n",
       "    }\n",
       "\n",
       "    .dataframe thead th {\n",
       "        text-align: right;\n",
       "    }\n",
       "</style>\n",
       "<table border=\"1\" class=\"dataframe\">\n",
       "  <thead>\n",
       "    <tr style=\"text-align: right;\">\n",
       "      <th></th>\n",
       "      <th>news_ID</th>\n",
       "      <th>hyperlink</th>\n",
       "      <th>content</th>\n",
       "      <th>name</th>\n",
       "    </tr>\n",
       "  </thead>\n",
       "  <tbody>\n",
       "    <tr>\n",
       "      <th>5018</th>\n",
       "      <td>5019</td>\n",
       "      <td>https://udn.com/news/story/120538/4032584</td>\n",
       "      <td>「一碗水救不了森林大火」香港抗議者不理特首撤回修例繼續在各地示威路透社香港特首林鄭月娥4日宣...</td>\n",
       "      <td>[]</td>\n",
       "    </tr>\n",
       "    <tr>\n",
       "      <th>5019</th>\n",
       "      <td>5020</td>\n",
       "      <td>https://news.cnyes.com/news/id/4357901</td>\n",
       "      <td>0台股台股盤勢【華冠投顧】OTC轉強小樹走高華冠投顧※來源：華冠投顧2019/07/15 1...</td>\n",
       "      <td>[]</td>\n",
       "    </tr>\n",
       "    <tr>\n",
       "      <th>5020</th>\n",
       "      <td>5021</td>\n",
       "      <td>http://www.coolloud.org.tw/node/93286</td>\n",
       "      <td>近日教育部在媒體上宣布駁回世新大學社發所的停招申請案 ### 省略內文 ### 造成...</td>\n",
       "      <td>[]</td>\n",
       "    </tr>\n",
       "    <tr>\n",
       "      <th>5021</th>\n",
       "      <td>5022</td>\n",
       "      <td>https://www.chinatimes.com/realtimenews/201907...</td>\n",
       "      <td>史上金額最大開發案「台北雙子星」最優申請人「南海團隊」香港商南海發展有限公司、馬來西亞商馬頓...</td>\n",
       "      <td>[]</td>\n",
       "    </tr>\n",
       "    <tr>\n",
       "      <th>5022</th>\n",
       "      <td>5023</td>\n",
       "      <td>https://news.cnyes.com/news/id/4375179</td>\n",
       "      <td>0期貨股票影/今年上半年三大股票期貨交易策略最賺錢鉅亨網記者鄭心芸、李佳泓2019/09/0...</td>\n",
       "      <td>[]</td>\n",
       "    </tr>\n",
       "  </tbody>\n",
       "</table>\n",
       "</div>"
      ],
      "text/plain": [
       "      news_ID                                          hyperlink  \\\n",
       "5018     5019          https://udn.com/news/story/120538/4032584   \n",
       "5019     5020             https://news.cnyes.com/news/id/4357901   \n",
       "5020     5021              http://www.coolloud.org.tw/node/93286   \n",
       "5021     5022  https://www.chinatimes.com/realtimenews/201907...   \n",
       "5022     5023             https://news.cnyes.com/news/id/4375179   \n",
       "\n",
       "                                                content name  \n",
       "5018  「一碗水救不了森林大火」香港抗議者不理特首撤回修例繼續在各地示威路透社香港特首林鄭月娥4日宣...   []  \n",
       "5019  0台股台股盤勢【華冠投顧】OTC轉強小樹走高華冠投顧※來源：華冠投顧2019/07/15 1...   []  \n",
       "5020      近日教育部在媒體上宣布駁回世新大學社發所的停招申請案 ### 省略內文 ### 造成...   []  \n",
       "5021  史上金額最大開發案「台北雙子星」最優申請人「南海團隊」香港商南海發展有限公司、馬來西亞商馬頓...   []  \n",
       "5022  0期貨股票影/今年上半年三大股票期貨交易策略最賺錢鉅亨網記者鄭心芸、李佳泓2019/09/0...   []  "
      ]
     },
     "execution_count": 17,
     "metadata": {},
     "output_type": "execute_result"
    }
   ],
   "source": [
    "training_data = pd.read_csv('../data/raw/模型訓練資料/tbrain_train_final_0610.csv')\n",
    "training_data.tail()"
   ]
  },
  {
   "cell_type": "code",
   "execution_count": 5,
   "metadata": {},
   "outputs": [
    {
     "data": {
      "text/html": [
       "<div>\n",
       "<style scoped>\n",
       "    .dataframe tbody tr th:only-of-type {\n",
       "        vertical-align: middle;\n",
       "    }\n",
       "\n",
       "    .dataframe tbody tr th {\n",
       "        vertical-align: top;\n",
       "    }\n",
       "\n",
       "    .dataframe thead th {\n",
       "        text-align: right;\n",
       "    }\n",
       "</style>\n",
       "<table border=\"1\" class=\"dataframe\">\n",
       "  <thead>\n",
       "    <tr style=\"text-align: right;\">\n",
       "      <th></th>\n",
       "      <th>res</th>\n",
       "      <th>news</th>\n",
       "    </tr>\n",
       "  </thead>\n",
       "  <tbody>\n",
       "    <tr>\n",
       "      <th>0</th>\n",
       "      <td>&lt;HtmlResponse 200 https://news.cnyes.com/news/...</td>\n",
       "      <td>['熱搜：', '熱門行情', '最近搜尋', '基金老司機', '近年來投資市場波動越來越...</td>\n",
       "    </tr>\n",
       "    <tr>\n",
       "      <th>1</th>\n",
       "      <td>&lt;HtmlResponse 200 https://www.mirrormedia.mg/s...</td>\n",
       "      <td>['\\n      全部類別\\n    ', '\\n      全部類別\\n    ', '...</td>\n",
       "    </tr>\n",
       "    <tr>\n",
       "      <th>2</th>\n",
       "      <td>&lt;HtmlResponse 200 https://www.chinatimes.com/n...</td>\n",
       "      <td>['交通部觀光局26日公布7月國際旅客情況，單月98.9萬人次，較去年同期成長15.9％，但...</td>\n",
       "    </tr>\n",
       "    <tr>\n",
       "      <th>3</th>\n",
       "      <td>&lt;HtmlResponse 200 https://udn.com/news/story/1...</td>\n",
       "      <td>['10月13日晚間發生Uber Eats黃姓外送人員職災死亡案件，北市府勞動局認定業者未依...</td>\n",
       "    </tr>\n",
       "    <tr>\n",
       "      <th>4</th>\n",
       "      <td>&lt;HtmlResponse 200 https://news.cnyes.com/news/...</td>\n",
       "      <td>['熱搜：', '熱門行情', '最近搜尋', '基金老司機', '對於大部分的投資人而言，...</td>\n",
       "    </tr>\n",
       "  </tbody>\n",
       "</table>\n",
       "</div>"
      ],
      "text/plain": [
       "                                                 res  \\\n",
       "0  <HtmlResponse 200 https://news.cnyes.com/news/...   \n",
       "1  <HtmlResponse 200 https://www.mirrormedia.mg/s...   \n",
       "2  <HtmlResponse 200 https://www.chinatimes.com/n...   \n",
       "3  <HtmlResponse 200 https://udn.com/news/story/1...   \n",
       "4  <HtmlResponse 200 https://news.cnyes.com/news/...   \n",
       "\n",
       "                                                news  \n",
       "0  ['熱搜：', '熱門行情', '最近搜尋', '基金老司機', '近年來投資市場波動越來越...  \n",
       "1  ['\\n      全部類別\\n    ', '\\n      全部類別\\n    ', '...  \n",
       "2  ['交通部觀光局26日公布7月國際旅客情況，單月98.9萬人次，較去年同期成長15.9％，但...  \n",
       "3  ['10月13日晚間發生Uber Eats黃姓外送人員職災死亡案件，北市府勞動局認定業者未依...  \n",
       "4  ['熱搜：', '熱門行情', '最近搜尋', '基金老司機', '對於大部分的投資人而言，...  "
      ]
     },
     "execution_count": 5,
     "metadata": {},
     "output_type": "execute_result"
    }
   ],
   "source": [
    "crawler_data = pd.read_csv('../data/processed/news_content.csv')\n",
    "crawler_data.head()"
   ]
  },
  {
   "cell_type": "code",
   "execution_count": 7,
   "metadata": {},
   "outputs": [
    {
     "data": {
      "text/html": [
       "<div>\n",
       "<style scoped>\n",
       "    .dataframe tbody tr th:only-of-type {\n",
       "        vertical-align: middle;\n",
       "    }\n",
       "\n",
       "    .dataframe tbody tr th {\n",
       "        vertical-align: top;\n",
       "    }\n",
       "\n",
       "    .dataframe thead th {\n",
       "        text-align: right;\n",
       "    }\n",
       "</style>\n",
       "<table border=\"1\" class=\"dataframe\">\n",
       "  <thead>\n",
       "    <tr style=\"text-align: right;\">\n",
       "      <th></th>\n",
       "      <th>res</th>\n",
       "      <th>news</th>\n",
       "    </tr>\n",
       "  </thead>\n",
       "  <tbody>\n",
       "    <tr>\n",
       "      <th>0</th>\n",
       "      <td>https://news.cnyes.com/news/id/4352432</td>\n",
       "      <td>['熱搜：', '熱門行情', '最近搜尋', '基金老司機', '近年來投資市場波動越來越...</td>\n",
       "    </tr>\n",
       "    <tr>\n",
       "      <th>1</th>\n",
       "      <td>https://www.mirrormedia.mg/story/20191008soc011/</td>\n",
       "      <td>['\\n      全部類別\\n    ', '\\n      全部類別\\n    ', '...</td>\n",
       "    </tr>\n",
       "    <tr>\n",
       "      <th>2</th>\n",
       "      <td>https://www.chinatimes.com/newspapers/20190827...</td>\n",
       "      <td>['交通部觀光局26日公布7月國際旅客情況，單月98.9萬人次，較去年同期成長15.9％，但...</td>\n",
       "    </tr>\n",
       "    <tr>\n",
       "      <th>3</th>\n",
       "      <td>https://udn.com/news/story/120775/4112519</td>\n",
       "      <td>['10月13日晚間發生Uber Eats黃姓外送人員職災死亡案件，北市府勞動局認定業者未依...</td>\n",
       "    </tr>\n",
       "    <tr>\n",
       "      <th>4</th>\n",
       "      <td>https://news.cnyes.com/news/id/4365094</td>\n",
       "      <td>['熱搜：', '熱門行情', '最近搜尋', '基金老司機', '對於大部分的投資人而言，...</td>\n",
       "    </tr>\n",
       "  </tbody>\n",
       "</table>\n",
       "</div>"
      ],
      "text/plain": [
       "                                                 res  \\\n",
       "0             https://news.cnyes.com/news/id/4352432   \n",
       "1   https://www.mirrormedia.mg/story/20191008soc011/   \n",
       "2  https://www.chinatimes.com/newspapers/20190827...   \n",
       "3          https://udn.com/news/story/120775/4112519   \n",
       "4             https://news.cnyes.com/news/id/4365094   \n",
       "\n",
       "                                                news  \n",
       "0  ['熱搜：', '熱門行情', '最近搜尋', '基金老司機', '近年來投資市場波動越來越...  \n",
       "1  ['\\n      全部類別\\n    ', '\\n      全部類別\\n    ', '...  \n",
       "2  ['交通部觀光局26日公布7月國際旅客情況，單月98.9萬人次，較去年同期成長15.9％，但...  \n",
       "3  ['10月13日晚間發生Uber Eats黃姓外送人員職災死亡案件，北市府勞動局認定業者未依...  \n",
       "4  ['熱搜：', '熱門行情', '最近搜尋', '基金老司機', '對於大部分的投資人而言，...  "
      ]
     },
     "execution_count": 7,
     "metadata": {},
     "output_type": "execute_result"
    }
   ],
   "source": [
    "crawler_data['res'] = crawler_data['res'].str.replace(\"<HtmlResponse 200 \",\"\")\n",
    "crawler_data['res'] = crawler_data['res'].str.replace(\">\",\"\")\n",
    "crawler_data.head()"
   ]
  },
  {
   "cell_type": "code",
   "execution_count": 8,
   "metadata": {},
   "outputs": [
    {
     "data": {
      "text/html": [
       "<div>\n",
       "<style scoped>\n",
       "    .dataframe tbody tr th:only-of-type {\n",
       "        vertical-align: middle;\n",
       "    }\n",
       "\n",
       "    .dataframe tbody tr th {\n",
       "        vertical-align: top;\n",
       "    }\n",
       "\n",
       "    .dataframe thead th {\n",
       "        text-align: right;\n",
       "    }\n",
       "</style>\n",
       "<table border=\"1\" class=\"dataframe\">\n",
       "  <thead>\n",
       "    <tr style=\"text-align: right;\">\n",
       "      <th></th>\n",
       "      <th>res</th>\n",
       "      <th>news</th>\n",
       "    </tr>\n",
       "  </thead>\n",
       "  <tbody>\n",
       "    <tr>\n",
       "      <th>4588</th>\n",
       "      <td>https://news.cnyes.com/news/id/4357901</td>\n",
       "      <td>['熱搜：', '熱門行情', '最近搜尋', '基金老司機', 'OTC 持續向上推進，今...</td>\n",
       "    </tr>\n",
       "    <tr>\n",
       "      <th>4589</th>\n",
       "      <td>https://www.ettoday.net/amp/amp_news.php?news_...</td>\n",
       "      <td>['▲員警機智破解老人衣服之密碼，助其返家。（圖／記者林妍君翻攝）', '實習記者傅一珩／高...</td>\n",
       "    </tr>\n",
       "    <tr>\n",
       "      <th>4590</th>\n",
       "      <td>https://www.chinatimes.com/realtimenews/201907...</td>\n",
       "      <td>['史上金額最大開發案「台北雙子星」最優申請人「南海團隊」香港商南海發展有限公司、馬來西亞商...</td>\n",
       "    </tr>\n",
       "    <tr>\n",
       "      <th>4591</th>\n",
       "      <td>https://news.cnyes.com/news/id/4375179</td>\n",
       "      <td>['熱搜：', '熱門行情', '最近搜尋', '基金老司機', '全球投資市場操作難度升高...</td>\n",
       "    </tr>\n",
       "    <tr>\n",
       "      <th>4592</th>\n",
       "      <td>https://www.coolloud.org.tw/node/93286</td>\n",
       "      <td>['【新聞稿】「過激學生報告輔大學務長，官署同意宮廟學生遠學堂！」', '\\n--譴責教育部...</td>\n",
       "    </tr>\n",
       "  </tbody>\n",
       "</table>\n",
       "</div>"
      ],
      "text/plain": [
       "                                                    res  \\\n",
       "4588             https://news.cnyes.com/news/id/4357901   \n",
       "4589  https://www.ettoday.net/amp/amp_news.php?news_...   \n",
       "4590  https://www.chinatimes.com/realtimenews/201907...   \n",
       "4591             https://news.cnyes.com/news/id/4375179   \n",
       "4592             https://www.coolloud.org.tw/node/93286   \n",
       "\n",
       "                                                   news  \n",
       "4588  ['熱搜：', '熱門行情', '最近搜尋', '基金老司機', 'OTC 持續向上推進，今...  \n",
       "4589  ['▲員警機智破解老人衣服之密碼，助其返家。（圖／記者林妍君翻攝）', '實習記者傅一珩／高...  \n",
       "4590  ['史上金額最大開發案「台北雙子星」最優申請人「南海團隊」香港商南海發展有限公司、馬來西亞商...  \n",
       "4591  ['熱搜：', '熱門行情', '最近搜尋', '基金老司機', '全球投資市場操作難度升高...  \n",
       "4592  ['【新聞稿】「過激學生報告輔大學務長，官署同意宮廟學生遠學堂！」', '\\n--譴責教育部...  "
      ]
     },
     "execution_count": 8,
     "metadata": {},
     "output_type": "execute_result"
    }
   ],
   "source": [
    "crawler_data.tail()"
   ]
  },
  {
   "cell_type": "code",
   "execution_count": 14,
   "metadata": {},
   "outputs": [],
   "source": [
    "crawler_data.columns = ['hyperlink', 'news']"
   ]
  },
  {
   "cell_type": "code",
   "execution_count": 16,
   "metadata": {},
   "outputs": [
    {
     "data": {
      "text/html": [
       "<div>\n",
       "<style scoped>\n",
       "    .dataframe tbody tr th:only-of-type {\n",
       "        vertical-align: middle;\n",
       "    }\n",
       "\n",
       "    .dataframe tbody tr th {\n",
       "        vertical-align: top;\n",
       "    }\n",
       "\n",
       "    .dataframe thead th {\n",
       "        text-align: right;\n",
       "    }\n",
       "</style>\n",
       "<table border=\"1\" class=\"dataframe\">\n",
       "  <thead>\n",
       "    <tr style=\"text-align: right;\">\n",
       "      <th></th>\n",
       "      <th>news_ID</th>\n",
       "      <th>hyperlink</th>\n",
       "      <th>content</th>\n",
       "      <th>name</th>\n",
       "      <th>news</th>\n",
       "    </tr>\n",
       "  </thead>\n",
       "  <tbody>\n",
       "    <tr>\n",
       "      <th>5024</th>\n",
       "      <td>5019</td>\n",
       "      <td>https://udn.com/news/story/120538/4032584</td>\n",
       "      <td>「一碗水救不了森林大火」香港抗議者不理特首撤回修例繼續在各地示威路透社香港特首林鄭月娥4日宣...</td>\n",
       "      <td>[]</td>\n",
       "      <td>['\\r\\n', '特首林鄭月娥4日宣布撤回逃犯條例修訂，示威者斥為「太遲太少」，「一碗水救...</td>\n",
       "    </tr>\n",
       "    <tr>\n",
       "      <th>5025</th>\n",
       "      <td>5020</td>\n",
       "      <td>https://news.cnyes.com/news/id/4357901</td>\n",
       "      <td>0台股台股盤勢【華冠投顧】OTC轉強小樹走高華冠投顧※來源：華冠投顧2019/07/15 1...</td>\n",
       "      <td>[]</td>\n",
       "      <td>['熱搜：', '熱門行情', '最近搜尋', '基金老司機', 'OTC 持續向上推進，今...</td>\n",
       "    </tr>\n",
       "    <tr>\n",
       "      <th>5026</th>\n",
       "      <td>5021</td>\n",
       "      <td>http://www.coolloud.org.tw/node/93286</td>\n",
       "      <td>近日教育部在媒體上宣布駁回世新大學社發所的停招申請案 ### 省略內文 ### 造成...</td>\n",
       "      <td>[]</td>\n",
       "      <td>NaN</td>\n",
       "    </tr>\n",
       "    <tr>\n",
       "      <th>5027</th>\n",
       "      <td>5022</td>\n",
       "      <td>https://www.chinatimes.com/realtimenews/201907...</td>\n",
       "      <td>史上金額最大開發案「台北雙子星」最優申請人「南海團隊」香港商南海發展有限公司、馬來西亞商馬頓...</td>\n",
       "      <td>[]</td>\n",
       "      <td>['史上金額最大開發案「台北雙子星」最優申請人「南海團隊」香港商南海發展有限公司、馬來西亞商...</td>\n",
       "    </tr>\n",
       "    <tr>\n",
       "      <th>5028</th>\n",
       "      <td>5023</td>\n",
       "      <td>https://news.cnyes.com/news/id/4375179</td>\n",
       "      <td>0期貨股票影/今年上半年三大股票期貨交易策略最賺錢鉅亨網記者鄭心芸、李佳泓2019/09/0...</td>\n",
       "      <td>[]</td>\n",
       "      <td>['熱搜：', '熱門行情', '最近搜尋', '基金老司機', '全球投資市場操作難度升高...</td>\n",
       "    </tr>\n",
       "  </tbody>\n",
       "</table>\n",
       "</div>"
      ],
      "text/plain": [
       "      news_ID                                          hyperlink  \\\n",
       "5024     5019          https://udn.com/news/story/120538/4032584   \n",
       "5025     5020             https://news.cnyes.com/news/id/4357901   \n",
       "5026     5021              http://www.coolloud.org.tw/node/93286   \n",
       "5027     5022  https://www.chinatimes.com/realtimenews/201907...   \n",
       "5028     5023             https://news.cnyes.com/news/id/4375179   \n",
       "\n",
       "                                                content name  \\\n",
       "5024  「一碗水救不了森林大火」香港抗議者不理特首撤回修例繼續在各地示威路透社香港特首林鄭月娥4日宣...   []   \n",
       "5025  0台股台股盤勢【華冠投顧】OTC轉強小樹走高華冠投顧※來源：華冠投顧2019/07/15 1...   []   \n",
       "5026      近日教育部在媒體上宣布駁回世新大學社發所的停招申請案 ### 省略內文 ### 造成...   []   \n",
       "5027  史上金額最大開發案「台北雙子星」最優申請人「南海團隊」香港商南海發展有限公司、馬來西亞商馬頓...   []   \n",
       "5028  0期貨股票影/今年上半年三大股票期貨交易策略最賺錢鉅亨網記者鄭心芸、李佳泓2019/09/0...   []   \n",
       "\n",
       "                                                   news  \n",
       "5024  ['\\r\\n', '特首林鄭月娥4日宣布撤回逃犯條例修訂，示威者斥為「太遲太少」，「一碗水救...  \n",
       "5025  ['熱搜：', '熱門行情', '最近搜尋', '基金老司機', 'OTC 持續向上推進，今...  \n",
       "5026                                                NaN  \n",
       "5027  ['史上金額最大開發案「台北雙子星」最優申請人「南海團隊」香港商南海發展有限公司、馬來西亞商...  \n",
       "5028  ['熱搜：', '熱門行情', '最近搜尋', '基金老司機', '全球投資市場操作難度升高...  "
      ]
     },
     "execution_count": 16,
     "metadata": {},
     "output_type": "execute_result"
    }
   ],
   "source": [
    "merge_df = pd.merge(training_data, crawler_data, on='hyperlink', how='left')\n",
    "merge_df.tail()"
   ]
  },
  {
   "cell_type": "code",
   "execution_count": 28,
   "metadata": {},
   "outputs": [
    {
     "data": {
      "text/plain": [
       "5023"
      ]
     },
     "execution_count": 28,
     "metadata": {},
     "output_type": "execute_result"
    }
   ],
   "source": [
    "merge_df.drop_duplicates(inplace=True)\n",
    "len(merge_df)"
   ]
  },
  {
   "cell_type": "code",
   "execution_count": 29,
   "metadata": {},
   "outputs": [],
   "source": [
    "merge_df.to_csv('../data/processed/merge_training_data.csv', index=False)"
   ]
  },
  {
   "cell_type": "code",
   "execution_count": null,
   "metadata": {},
   "outputs": [],
   "source": []
  }
 ],
 "metadata": {
  "kernelspec": {
   "display_name": "Python 3",
   "language": "python",
   "name": "python3"
  },
  "language_info": {
   "codemirror_mode": {
    "name": "ipython",
    "version": 3
   },
   "file_extension": ".py",
   "mimetype": "text/x-python",
   "name": "python",
   "nbconvert_exporter": "python",
   "pygments_lexer": "ipython3",
   "version": "3.6.8"
  }
 },
 "nbformat": 4,
 "nbformat_minor": 4
}
